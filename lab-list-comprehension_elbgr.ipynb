{
 "cells": [
  {
   "cell_type": "markdown",
   "id": "25d7736c-ba17-4aff-b6bb-66eba20fbf4e",
   "metadata": {},
   "source": [
    "# Lab | List, Dict and Set Comprehension"
   ]
  },
  {
   "cell_type": "markdown",
   "id": "7dd3cbde-675a-4b81-92c3-f728846dbe06",
   "metadata": {},
   "source": [
    "## Exercise: Managing Customer Orders Optimized with Comprehension"
   ]
  },
  {
   "cell_type": "markdown",
   "id": "5d500160-2fb7-4777-b5e4-09d45ebaf328",
   "metadata": {},
   "source": [
    "In the previous exercise, you developed a program to manage customer orders and inventory. Now, let's take it a step further and incorporate comprehension into your code.\n",
    "\n",
    "Follow the steps below to complete the exercise:\n",
    "\n",
    "1. Review your code from the previous exercise and identify areas where you can apply comprehension to simplify and streamline your code. \n",
    "\n",
    "    - *Hint: Apply it to initialize inventory, updating the inventory and printing the updated inventory.*\n",
    "    \n",
    "    - For example, in initializing the inventory, we could have:\n",
    "    \n",
    "        ```python\n",
    "        def initialize_inventory(products):\n",
    "            inventory = {product: int(input(f\"Enter the quantity of {product}s available: \")) for product in products}\n",
    "            return inventory\n",
    "\n",
    "        ```\n",
    "<br>\n",
    "    \n",
    "    \n",
    "2. Modify the function get_customer_orders so it prompts the user to enter the number of customer orders and gathers the product names using a loop and user input. Use comprehension.\n",
    "\n",
    "3. Add a new function to calculate the total price of the customer order. For each product in customer_orders, prompt the user to enter the price of that product. Use comprehension to calculate the total price. Note: assume that the user can only have 1 unit of each product.\n",
    "\n",
    "4. Modify the update_inventory function to remove the product from the inventory if its quantity becomes zero after fulfilling the customer orders. Use comprehension to filter out the products with a quantity of zero from the inventory.\n",
    "\n",
    "5. Print the total price of the customer order.\n",
    "\n",
    "Your code should produce output similar to the following:\n",
    "\n",
    "```python\n",
    "Enter the quantity of t-shirts available:  5\n",
    "Enter the quantity of mugs available:  4\n",
    "Enter the quantity of hats available:  3\n",
    "Enter the quantity of books available:  2\n",
    "Enter the quantity of keychains available:  1\n",
    "Enter the number of customer orders:  2\n",
    "Enter the name of a product that a customer wants to order:  hat\n",
    "Enter the name of a product that a customer wants to order:  keychain\n",
    "\n",
    "Order Statistics:\n",
    "Total Products Ordered: 2\n",
    "Percentage of Unique Products Ordered: 40.0\n",
    "\n",
    "Updated Inventory:\n",
    "t-shirt: 5\n",
    "mug: 4\n",
    "hat: 2\n",
    "book: 2\n",
    "Enter the price of keychain:  5\n",
    "Enter the price of hat:  10\n",
    "Total Price: 15.0\n",
    "\n",
    "```\n"
   ]
  },
  {
   "cell_type": "code",
   "execution_count": 10,
   "id": "156fa500",
   "metadata": {},
   "outputs": [
    {
     "name": "stdout",
     "output_type": "stream",
     "text": [
      "{'t-shirt': 5.0, 'mug': 5.0, 'hat': 5.0, 'book': 5.0, 'keychain': 5.0}\n",
      "{'hat'}\n",
      "{'hat': 4.0}\n"
     ]
    }
   ],
   "source": [
    "products=[\"t-shirt\",\"mug\",\"hat\",\"book\",\"keychain\"]\n",
    "  \n",
    "\n",
    "def initialize_inventory(products):\n",
    "    inventory={product:float(input(f\"Please enter the quantity for {product}\")) for product in products}\n",
    "    return inventory\n",
    "\n",
    "inventory=initialize_inventory(products)\n",
    "print(inventory) \n",
    "\n",
    "def get_customer_orders(products):\n",
    "    customers_orders=set()\n",
    "    another=\"yes\"\n",
    "    another.lower()\n",
    "    while another==\"yes\":\n",
    "        order_product=input(\"Please choose an item from the product list\")\n",
    "        if order_product not in products:\n",
    "            print(\"This product is not available\")\n",
    "            continue\n",
    "        if order_product in customers_orders:\n",
    "            print(\"You already selected this product\")\n",
    "            continue\n",
    "        customers_orders.add(order_product)\n",
    "        another = input(\"Do you want to add another product? (yes/no): \")\n",
    "    return customers_orders\n",
    "\n",
    "customers_orders=get_customer_orders(products)\n",
    "print(customers_orders)\n",
    "\n",
    "def update_inventory(customers_orders,inventory):\n",
    "    # This function remove all the products that the customer ordered from the original inventory\n",
    "    updated_inventory={products:inventory[products]-1 for products in customers_orders if products in inventory}\n",
    "    print(updated_inventory)\n",
    "\n",
    "update_inventory(customers_orders,inventory)\n",
    "\n"
   ]
  },
  {
   "cell_type": "code",
   "execution_count": 11,
   "id": "e6718a91",
   "metadata": {},
   "outputs": [
    {
     "name": "stdout",
     "output_type": "stream",
     "text": [
      "{1: ['hat']}\n"
     ]
    }
   ],
   "source": [
    "# I am going to make a dictionary where the key is the number of the order and the value is a list of products\n",
    "# The list of products will be defined in the function get_customer_orders\n",
    "\n",
    "def get_customer_orders(products):\n",
    "    \"\"\"A dictionary where the key is the number of the order and the value is a list of products\n",
    "     The list of products will be defined in the list customer_orders\n",
    "     Te number of orders will be defined in num_orders\"\"\"\n",
    "    num_orders=int(input(\"Enter your number of orders: \"))\n",
    "\n",
    "    orders_dict={order: [] for order in range(1,num_orders+1)}\n",
    "\n",
    "    for order in orders_dict:\n",
    "        customers_orders=[]\n",
    "        another=\"yes\"\n",
    "        another.lower()\n",
    "        while another==\"yes\":\n",
    "            order_product=input(\"Please choose an item from the product list\")\n",
    "            if order_product not in products:\n",
    "                print(\"This product is not available\")\n",
    "                continue\n",
    "            if order_product in customers_orders:\n",
    "                print(\"You already selected this product\")\n",
    "                continue\n",
    "            customers_orders.append(order_product)\n",
    "            another = input(\"Do you want to add another product? (yes/no): \")\n",
    "        \n",
    "        orders_dict[order]=customers_orders\n",
    "    return orders_dict\n",
    "\n",
    "orders_dict=get_customer_orders(products)\n",
    "print(orders_dict)\n",
    "\n",
    "\n",
    "\n",
    "\n",
    "\n",
    "    "
   ]
  },
  {
   "cell_type": "code",
   "execution_count": 13,
   "id": "d8ad366b",
   "metadata": {},
   "outputs": [
    {
     "name": "stdout",
     "output_type": "stream",
     "text": [
      "The total price of your order is 6.0\n"
     ]
    },
    {
     "data": {
      "text/plain": [
       "6.0"
      ]
     },
     "execution_count": 13,
     "metadata": {},
     "output_type": "execute_result"
    }
   ],
   "source": [
    "def total_price_order(customers_orders):\n",
    "    price_by_product={p:float(input(f\"Enter the price for {p}: \")) for p in customers_orders}\n",
    "    sum_price=sum(price_by_product.values())\n",
    "    print(f\"The total price of your order is {sum_price}\")\n",
    "    return sum_price \n",
    "\n",
    "total_price_order(customers_orders)\n",
    "    "
   ]
  },
  {
   "cell_type": "code",
   "execution_count": 15,
   "id": "1824d033",
   "metadata": {},
   "outputs": [
    {
     "name": "stdout",
     "output_type": "stream",
     "text": [
      "{'t-shirt': 5.0, 'mug': 5.0, 'hat': 4.0, 'book': 5.0, 'keychain': 5.0}\n"
     ]
    }
   ],
   "source": [
    "def update_inventory(inventory,customers_orders):\n",
    "# First we substract one unit of each product ordered from the inventory\n",
    "    for products in customers_orders:\n",
    "        if products in inventory:\n",
    "            inventory[products]-=1\n",
    "        else:\n",
    "            inventory[products]=0\n",
    "            #Here we indicate that if the product is not in the inventory, we set its quantity to 0\n",
    "    \n",
    "    updated_inventory={products: qty for products,qty in inventory.items() if qty>0}\n",
    "    return updated_inventory\n",
    "\n",
    "updated_inventory= update_inventory(inventory,customers_orders)\n",
    "print(updated_inventory)"
   ]
  }
 ],
 "metadata": {
  "kernelspec": {
   "display_name": "Python 3",
   "language": "python",
   "name": "python3"
  },
  "language_info": {
   "codemirror_mode": {
    "name": "ipython",
    "version": 3
   },
   "file_extension": ".py",
   "mimetype": "text/x-python",
   "name": "python",
   "nbconvert_exporter": "python",
   "pygments_lexer": "ipython3",
   "version": "3.13.6"
  }
 },
 "nbformat": 4,
 "nbformat_minor": 5
}
